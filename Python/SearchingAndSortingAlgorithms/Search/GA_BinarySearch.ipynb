{
 "cells": [
  {
   "cell_type": "markdown",
   "id": "0880b624",
   "metadata": {},
   "source": [
    "### How does this works???\n",
    "\n",
    "So the first thing that we need is a sorted array. Now the thing that we will do is take the most biggest or the last number(n) from the array and then the smallest or the first number(m) from the array. Now, Let's supose that we have to find a. So we will look at the middle number or the position and compare it with a. If the number is bigger than a then we will look in the first half and contibue till we find the number."
   ]
  },
  {
   "cell_type": "code",
   "execution_count": null,
   "id": "c509d569",
   "metadata": {},
   "outputs": [],
   "source": [
    "def binary_search(list , item):\n",
    "    low = 0\n",
    "    high = len(list) - 1\n",
    "    \n",
    "    while low <= high:\n",
    "        mid = ( low + high ) // 2\n",
    "        guess = list[mid]\n",
    "\n",
    "        if guess == item:\n",
    "            return mid\n",
    "        if guess > item:\n",
    "            high = mid - 1\n",
    "        else:\n",
    "            high = mid + 1\n",
    "\n",
    "    return None"
   ]
  },
  {
   "cell_type": "code",
   "execution_count": 32,
   "id": "842bf62d",
   "metadata": {},
   "outputs": [
    {
     "name": "stdout",
     "output_type": "stream",
     "text": [
      "0\n"
     ]
    }
   ],
   "source": [
    "list = [1 , 5 , 7 , 8 , 9]\n",
    "\n",
    "print(binary_search( list , 1))"
   ]
  },
  {
   "cell_type": "markdown",
   "id": "01d27cd1",
   "metadata": {},
   "source": [
    "## Excercises"
   ]
  },
  {
   "cell_type": "markdown",
   "id": "8bdac11e",
   "metadata": {},
   "source": [
    "Suppose you have a sorted list of 128 names, and you’re searching\n",
    "through it using binary search. What’s the maximum number of\n",
    "steps it would take?\n",
    "\n",
    "<details><summary>Click here for the solution</summary>\n",
    "Max steps=⌈log<sub>2</sub>(x)(n)⌉ therefore it will be 7\n",
    "</details>\n"
   ]
  },
  {
   "cell_type": "markdown",
   "id": "000b838d",
   "metadata": {},
   "source": [
    "Suppose you double the size of the list. What’s the maximum\n",
    "number of steps now?\n",
    "\n",
    "<details><summary>Click here for the solution</summary>\n",
    "Max steps=⌈log<sub>2</sub>(x)(n)⌉  Therefore 8\n",
    "</details>\n"
   ]
  }
 ],
 "metadata": {
  "kernelspec": {
   "display_name": ".venv",
   "language": "python",
   "name": "python3"
  },
  "language_info": {
   "codemirror_mode": {
    "name": "ipython",
    "version": 3
   },
   "file_extension": ".py",
   "mimetype": "text/x-python",
   "name": "python",
   "nbconvert_exporter": "python",
   "pygments_lexer": "ipython3",
   "version": "3.13.0"
  }
 },
 "nbformat": 4,
 "nbformat_minor": 5
}
